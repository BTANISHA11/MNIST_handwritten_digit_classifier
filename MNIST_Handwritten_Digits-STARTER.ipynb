{
 "cells": [
  {
   "cell_type": "markdown",
   "metadata": {},
   "source": [
    "# Introduction\n",
    "\n",
    "In this project, you will build a neural network of your own design to evaluate the MNIST dataset.\n",
    "\n",
    "Some of the benchmark results on MNIST include can be found [on Yann LeCun's page](https://webcache.googleusercontent.com/search?q=cache:stAVPik6onEJ:yann.lecun.com/exdb/mnist) and include:\n",
    "\n",
    "88% [Lecun et al., 1998](https://hal.science/hal-03926082/document)\n",
    "\n",
    "95.3% [Lecun et al., 1998](https://hal.science/hal-03926082v1/document)\n",
    "\n",
    "99.65% [Ciresan et al., 2011](http://people.idsia.ch/~juergen/ijcai2011.pdf)\n",
    "\n",
    "\n",
    "MNIST is a great dataset for sanity checking your models, since the accuracy levels achieved by large convolutional neural networks and small linear models are both quite high. This makes it important to be familiar with the data.\n",
    "\n",
    "## Installation"
   ]
  },
  {
   "cell_type": "code",
   "execution_count": 1,
   "metadata": {},
   "outputs": [
    {
     "name": "stdout",
     "output_type": "stream",
     "text": [
      "Defaulting to user installation because normal site-packages is not writeable\n",
      "Collecting ipywidgets==8.1.5\n",
      "  Downloading ipywidgets-8.1.5-py3-none-any.whl (139 kB)\n",
      "\u001b[K     |████████████████████████████████| 139 kB 3.0 MB/s eta 0:00:01\n",
      "\u001b[?25hCollecting comm>=0.1.3\n",
      "  Downloading comm-0.1.4-py3-none-any.whl (6.6 kB)\n",
      "Collecting jupyterlab-widgets~=3.0.12\n",
      "  Downloading jupyterlab_widgets-3.0.15-py3-none-any.whl (216 kB)\n",
      "\u001b[K     |████████████████████████████████| 216 kB 38.4 MB/s eta 0:00:01\n",
      "\u001b[?25hCollecting widgetsnbextension~=4.0.12\n",
      "  Downloading widgetsnbextension-4.0.14-py3-none-any.whl (2.2 MB)\n",
      "\u001b[K     |████████████████████████████████| 2.2 MB 86.5 MB/s eta 0:00:01\n",
      "\u001b[?25hRequirement already satisfied: traitlets>=4.3.1 in /opt/conda/lib/python3.7/site-packages (from ipywidgets==8.1.5->-r requirements.txt (line 1)) (4.3.3)\n",
      "Requirement already satisfied: ipython>=6.1.0 in /opt/conda/lib/python3.7/site-packages (from ipywidgets==8.1.5->-r requirements.txt (line 1)) (7.13.0)\n",
      "Requirement already satisfied: six in /opt/conda/lib/python3.7/site-packages (from traitlets>=4.3.1->ipywidgets==8.1.5->-r requirements.txt (line 1)) (1.16.0)\n",
      "Requirement already satisfied: decorator in /opt/conda/lib/python3.7/site-packages (from traitlets>=4.3.1->ipywidgets==8.1.5->-r requirements.txt (line 1)) (4.4.2)\n",
      "Requirement already satisfied: ipython-genutils in /opt/conda/lib/python3.7/site-packages (from traitlets>=4.3.1->ipywidgets==8.1.5->-r requirements.txt (line 1)) (0.2.0)\n",
      "Requirement already satisfied: pygments in /opt/conda/lib/python3.7/site-packages (from ipython>=6.1.0->ipywidgets==8.1.5->-r requirements.txt (line 1)) (2.5.2)\n",
      "Requirement already satisfied: jedi>=0.10 in /opt/conda/lib/python3.7/site-packages (from ipython>=6.1.0->ipywidgets==8.1.5->-r requirements.txt (line 1)) (0.16.0)\n",
      "Requirement already satisfied: pickleshare in /opt/conda/lib/python3.7/site-packages (from ipython>=6.1.0->ipywidgets==8.1.5->-r requirements.txt (line 1)) (0.7.5)\n",
      "Requirement already satisfied: setuptools>=18.5 in /opt/conda/lib/python3.7/site-packages (from ipython>=6.1.0->ipywidgets==8.1.5->-r requirements.txt (line 1)) (45.2.0.post20200209)\n",
      "Requirement already satisfied: pexpect; sys_platform != \"win32\" in /opt/conda/lib/python3.7/site-packages (from ipython>=6.1.0->ipywidgets==8.1.5->-r requirements.txt (line 1)) (4.8.0)\n",
      "Requirement already satisfied: backcall in /opt/conda/lib/python3.7/site-packages (from ipython>=6.1.0->ipywidgets==8.1.5->-r requirements.txt (line 1)) (0.1.0)\n",
      "Requirement already satisfied: prompt-toolkit!=3.0.0,!=3.0.1,<3.1.0,>=2.0.0 in /opt/conda/lib/python3.7/site-packages (from ipython>=6.1.0->ipywidgets==8.1.5->-r requirements.txt (line 1)) (3.0.3)\n",
      "Requirement already satisfied: parso>=0.5.2 in /opt/conda/lib/python3.7/site-packages (from jedi>=0.10->ipython>=6.1.0->ipywidgets==8.1.5->-r requirements.txt (line 1)) (0.6.1)\n",
      "Requirement already satisfied: ptyprocess>=0.5 in /opt/conda/lib/python3.7/site-packages (from pexpect; sys_platform != \"win32\"->ipython>=6.1.0->ipywidgets==8.1.5->-r requirements.txt (line 1)) (0.6.0)\n",
      "Requirement already satisfied: wcwidth in /opt/conda/lib/python3.7/site-packages (from prompt-toolkit!=3.0.0,!=3.0.1,<3.1.0,>=2.0.0->ipython>=6.1.0->ipywidgets==8.1.5->-r requirements.txt (line 1)) (0.1.8)\n",
      "Installing collected packages: comm, jupyterlab-widgets, widgetsnbextension, ipywidgets\n",
      "Successfully installed comm-0.1.4 ipywidgets-8.1.5 jupyterlab-widgets-3.0.15 widgetsnbextension-4.0.14\n"
     ]
    }
   ],
   "source": [
    "# Restart the Kernel after you execute this command.\n",
    "\n",
    "!python -m pip install -r requirements.txt"
   ]
  },
  {
   "cell_type": "markdown",
   "metadata": {},
   "source": [
    "**Important: Restart the Kernel at this moment**"
   ]
  },
  {
   "cell_type": "markdown",
   "metadata": {},
   "source": [
    "## Imports"
   ]
  },
  {
   "cell_type": "code",
   "execution_count": 2,
   "metadata": {},
   "outputs": [
    {
     "name": "stdout",
     "output_type": "stream",
     "text": [
      "Defaulting to user installation because normal site-packages is not writeable\n",
      "Requirement already satisfied: ipywidgets in /root/.local/lib/python3.7/site-packages (8.1.5)\n",
      "Requirement already satisfied: widgetsnbextension~=4.0.12 in /root/.local/lib/python3.7/site-packages (from ipywidgets) (4.0.14)\n",
      "Requirement already satisfied: comm>=0.1.3 in /root/.local/lib/python3.7/site-packages (from ipywidgets) (0.1.4)\n",
      "Requirement already satisfied: jupyterlab-widgets~=3.0.12 in /root/.local/lib/python3.7/site-packages (from ipywidgets) (3.0.15)\n",
      "Requirement already satisfied: traitlets>=4.3.1 in /opt/conda/lib/python3.7/site-packages (from ipywidgets) (4.3.3)\n",
      "Requirement already satisfied: ipython>=6.1.0 in /opt/conda/lib/python3.7/site-packages (from ipywidgets) (7.13.0)\n",
      "Requirement already satisfied: decorator in /opt/conda/lib/python3.7/site-packages (from traitlets>=4.3.1->ipywidgets) (4.4.2)\n",
      "Requirement already satisfied: ipython-genutils in /opt/conda/lib/python3.7/site-packages (from traitlets>=4.3.1->ipywidgets) (0.2.0)\n",
      "Requirement already satisfied: six in /opt/conda/lib/python3.7/site-packages (from traitlets>=4.3.1->ipywidgets) (1.16.0)\n",
      "Requirement already satisfied: prompt-toolkit!=3.0.0,!=3.0.1,<3.1.0,>=2.0.0 in /opt/conda/lib/python3.7/site-packages (from ipython>=6.1.0->ipywidgets) (3.0.3)\n",
      "Requirement already satisfied: pygments in /opt/conda/lib/python3.7/site-packages (from ipython>=6.1.0->ipywidgets) (2.5.2)\n",
      "Requirement already satisfied: jedi>=0.10 in /opt/conda/lib/python3.7/site-packages (from ipython>=6.1.0->ipywidgets) (0.16.0)\n",
      "Requirement already satisfied: pickleshare in /opt/conda/lib/python3.7/site-packages (from ipython>=6.1.0->ipywidgets) (0.7.5)\n",
      "Requirement already satisfied: backcall in /opt/conda/lib/python3.7/site-packages (from ipython>=6.1.0->ipywidgets) (0.1.0)\n",
      "Requirement already satisfied: setuptools>=18.5 in /opt/conda/lib/python3.7/site-packages (from ipython>=6.1.0->ipywidgets) (45.2.0.post20200209)\n",
      "Requirement already satisfied: pexpect; sys_platform != \"win32\" in /opt/conda/lib/python3.7/site-packages (from ipython>=6.1.0->ipywidgets) (4.8.0)\n",
      "Requirement already satisfied: wcwidth in /opt/conda/lib/python3.7/site-packages (from prompt-toolkit!=3.0.0,!=3.0.1,<3.1.0,>=2.0.0->ipython>=6.1.0->ipywidgets) (0.1.8)\n",
      "Requirement already satisfied: parso>=0.5.2 in /opt/conda/lib/python3.7/site-packages (from jedi>=0.10->ipython>=6.1.0->ipywidgets) (0.6.1)\n",
      "Requirement already satisfied: ptyprocess>=0.5 in /opt/conda/lib/python3.7/site-packages (from pexpect; sys_platform != \"win32\"->ipython>=6.1.0->ipywidgets) (0.6.0)\n",
      "Enabling notebook extension jupyter-js-widgets/extension...\n",
      "      - Validating: \u001b[32mOK\u001b[0m\n"
     ]
    }
   ],
   "source": [
    "!pip install ipywidgets\n",
    "!jupyter nbextension enable --py widgetsnbextension"
   ]
  },
  {
   "cell_type": "code",
   "execution_count": 3,
   "metadata": {},
   "outputs": [],
   "source": [
    "## This cell contains the essential imports you will need – DO NOT CHANGE THE CONTENTS! ##\n",
    "import torch\n",
    "import torch.nn as nn\n",
    "import torch.nn.functional as F\n",
    "import torch.optim as optim\n",
    "import torchvision\n",
    "import torchvision.transforms as transforms\n",
    "import matplotlib.pyplot as plt\n",
    "import numpy as np"
   ]
  },
  {
   "cell_type": "code",
   "execution_count": 4,
   "metadata": {},
   "outputs": [],
   "source": [
    "from torchvision import datasets\n",
    "from torch.utils.data import DataLoader\n",
    "%matplotlib inline\n"
   ]
  },
  {
   "cell_type": "markdown",
   "metadata": {},
   "source": [
    "## Load the Dataset\n",
    "\n",
    "Specify your transforms as a list if you intend to .\n",
    "The transforms module is already loaded as `transforms`.\n",
    "\n",
    "MNIST is fortunately included in the torchvision module.\n",
    "Then, you can create your dataset using the `MNIST` object from `torchvision.datasets` ([the documentation is available here](https://pytorch.org/vision/stable/datasets.html#mnist)).\n",
    "Make sure to specify `download=True`! \n",
    "\n",
    "Once your dataset is created, you'll also need to define a `DataLoader` from the `torch.utils.data` module for both the train and the test set."
   ]
  },
  {
   "cell_type": "code",
   "execution_count": 5,
   "metadata": {},
   "outputs": [
    {
     "data": {
      "text/plain": [
       "device(type='cuda')"
      ]
     },
     "execution_count": 5,
     "metadata": {},
     "output_type": "execute_result"
    }
   ],
   "source": [
    "device = torch.device('cuda' if torch.cuda.is_available() else 'cpu')\n",
    "device"
   ]
  },
  {
   "cell_type": "code",
   "execution_count": 6,
   "metadata": {},
   "outputs": [
    {
     "name": "stderr",
     "output_type": "stream",
     "text": [
      "/opt/conda/lib/python3.7/site-packages/torchvision/datasets/mnist.py:498: UserWarning: The given NumPy array is not writable, and PyTorch does not support non-writable tensors. This means writing to this tensor will result in undefined behavior. You may want to copy the array to protect its data or make it writable before converting it to a tensor. This type of warning will be suppressed for the rest of this program. (Triggered internally at  ../torch/csrc/utils/tensor_numpy.cpp:178.)\n",
      "  return torch.from_numpy(parsed.astype(m[2], copy=False)).view(*s)\n"
     ]
    }
   ],
   "source": [
    "# Define transforms\n",
    "transform = transforms.Compose([\n",
    "    transforms.ToTensor(),\n",
    "    transforms.Normalize((0.5,), (0.5,))\n",
    "])\n",
    "\n",
    "# Load training data\n",
    "train_dataset = datasets.MNIST(root=\"data\", train=True, download=True, transform=transform)\n",
    "train_loader = DataLoader(train_dataset, batch_size=100, shuffle=True)\n",
    "\n",
    "# Load test data\n",
    "test_dataset = datasets.MNIST(root=\"data\", train=False, download=True, transform=transform)\n",
    "test_loader = DataLoader(test_dataset, batch_size=500, shuffle=False)\n"
   ]
  },
  {
   "cell_type": "markdown",
   "metadata": {},
   "source": [
    "## Justify your preprocessing\n",
    "\n",
    "Reshaping the Data\n",
    "Each image in the dataset is reshaped into a 2D array of size (28, 28), which corresponds to the original dimensions of the MNIST handwritten digit images. This ensures the model receives input in the expected format.\n",
    "\n",
    "Normalizing the Pixel Values\n",
    "The pixel values, originally ranging from 0 to 255, are normalized to a range between 0 and 1. This is done by dividing each pixel value by 255. Normalization helps the model train more efficiently and improves overall performance.\n",
    "\n",
    "Flattening the Images\n",
    "Since neural networks like the MLP expect a 1D input, each 2D image of shape (28, 28) is flattened into a 1D array of size 784 (i.e., 28 × 28 = 784). This transforms the image into a format suitable for fully connected layers.\n",
    "\n",
    "Splitting the Dataset\n",
    "The dataset is divided into two subsets:\n",
    "\n",
    "Training set: Used to train the machine learning model.\n",
    "\n",
    "Testing set: Used to evaluate the model’s accuracy and generalization on unseen data."
   ]
  },
  {
   "cell_type": "markdown",
   "metadata": {},
   "source": [
    "**DOUBLE CLICK THIS CELL TO MODIFY**"
   ]
  },
  {
   "cell_type": "markdown",
   "metadata": {},
   "source": [
    "## Explore the Dataset\n",
    "Using matplotlib, numpy, and torch, explore the dimensions of your data.\n",
    "\n",
    "You can view images using the `show5` function defined below – it takes a data loader as an argument.\n",
    "Remember that normalized images will look really weird to you! You may want to try changing your transforms to view images.\n",
    "Typically using no transforms other than `toTensor()` works well for viewing – but not as well for training your network.\n",
    "If `show5` doesn't work, go back and check your code for creating your data loaders and your training/test sets."
   ]
  },
  {
   "cell_type": "code",
   "execution_count": 7,
   "metadata": {},
   "outputs": [],
   "source": [
    "## This cell contains a function for showing 5 images from a dataloader – DO NOT CHANGE THE CONTENTS! ##\n",
    "def show5(img_loader):\n",
    "    dataiter = iter(img_loader)\n",
    "    \n",
    "    batch = next(dataiter)\n",
    "    labels = batch[1][0:5]\n",
    "    images = batch[0][0:5]\n",
    "    for i in range(5):\n",
    "        print(int(labels[i].detach()))\n",
    "    \n",
    "        image = images[i].numpy()\n",
    "        plt.imshow(image.T.squeeze().T)\n",
    "        plt.show()"
   ]
  },
  {
   "cell_type": "code",
   "execution_count": 8,
   "metadata": {},
   "outputs": [
    {
     "name": "stdout",
     "output_type": "stream",
     "text": [
      "Dataset MNIST\n",
      "    Number of datapoints: 60000\n",
      "    Root location: data\n",
      "    Split: Train\n",
      "    StandardTransform\n",
      "Transform: Compose(\n",
      "               ToTensor()\n",
      "               Normalize(mean=(0.5,), std=(0.5,))\n",
      "           )\n",
      "Dataset MNIST\n",
      "    Number of datapoints: 10000\n",
      "    Root location: data\n",
      "    Split: Test\n",
      "    StandardTransform\n",
      "Transform: Compose(\n",
      "               ToTensor()\n",
      "               Normalize(mean=(0.5,), std=(0.5,))\n",
      "           )\n",
      "Training Data Shape: torch.Size([60000, 28, 28])\n",
      "Training Labels Shape: torch.Size([60000])\n",
      "Sample Shape: torch.Size([1, 28, 28])\n",
      "Label: 5\n"
     ]
    },
    {
     "data": {
      "image/png": "[encoded data removed]",
      "text/plain": [
       "<Figure size 432x288 with 1 Axes>"
      ]
     },
     "metadata": {
      "needs_background": "light"
     },
     "output_type": "display_data"
    }
   ],
   "source": [
    "print(train_dataset)\n",
    "print(test_dataset)\n",
    "\n",
    "print(\"Training Data Shape:\", train_dataset.data.size())\n",
    "print(\"Training Labels Shape:\", train_dataset.targets.size())\n",
    "\n",
    "# Visualize a sample\n",
    "sample_image, sample_label = train_dataset[0]\n",
    "print(\"Sample Shape:\", sample_image.shape)\n",
    "print(\"Label:\", sample_label)\n",
    "plt.imshow(sample_image.reshape((28, 28)), cmap=\"gray\")\n",
    "plt.title(f\"Label: {sample_label}\")\n",
    "plt.show()\n"
   ]
  },
  {
   "cell_type": "markdown",
   "metadata": {},
   "source": [
    "## Build your Neural Network\n",
    "Using the layers in `torch.nn` (which has been imported as `nn`) and the `torch.nn.functional` module (imported as `F`), construct a neural network based on the parameters of the dataset.\n",
    "Use any architecture you like. \n",
    "\n",
    "*Note*: If you did not flatten your tensors in your transforms or as part of your preprocessing and you are using only `Linear` layers, make sure to use the `Flatten` layer in your network!"
   ]
  },
  {
   "cell_type": "code",
   "execution_count": 9,
   "metadata": {},
   "outputs": [],
   "source": [
    "class MultiLayerPerceptron(nn.Module):\n",
    "    def __init__(self, layers=[120, 84]):\n",
    "        super(MultiLayerPerceptron, self).__init__()\n",
    "        self.linear1 = nn.Linear(784, layers[0])\n",
    "        self.linear2 = nn.Linear(layers[0], layers[1])\n",
    "        self.linear3 = nn.Linear(layers[1], 10)\n",
    "    \n",
    "    def forward(self, x):\n",
    "        x = F.relu(self.linear1(x))\n",
    "        x = F.relu(self.linear2(x))\n",
    "        x = self.linear3(x)\n",
    "        return F.log_softmax(x, dim=1)\n"
   ]
  },
  {
   "cell_type": "code",
   "execution_count": 10,
   "metadata": {},
   "outputs": [
    {
     "name": "stdout",
     "output_type": "stream",
     "text": [
      "Initial Batch Shape:  torch.Size([100, 1, 28, 28])\n",
      "Batch Shape after Flattening:  torch.Size([100, 784])\n"
     ]
    }
   ],
   "source": [
    "for images, labels in train_loader:\n",
    "    print(\"Initial Batch Shape: \", images.size())\n",
    "    break\n",
    "print(\"Batch Shape after Flattening: \", images.view(100,-1).size())"
   ]
  },
  {
   "cell_type": "markdown",
   "metadata": {},
   "source": [
    "Specify a loss function and an optimizer, and instantiate the model.\n",
    "\n",
    "If you use a less common loss function, please note why you chose that loss function in a comment."
   ]
  },
  {
   "cell_type": "code",
   "execution_count": 11,
   "metadata": {},
   "outputs": [],
   "source": [
    "## YOUR CODE HERE ##\n",
    "clf = MultiLayerPerceptron()\n",
    "optimizer = optim.Adam(clf.parameters(), lr=0.001) #used in 2nd training\n",
    "\n",
    "# Choose a loss function\n",
    "criterion = nn.CrossEntropyLoss()"
   ]
  },
  {
   "cell_type": "markdown",
   "metadata": {},
   "source": [
    "## Running your Neural Network\n",
    "Use whatever method you like to train your neural network, and ensure you record the average loss at each epoch. \n",
    "Don't forget to use `torch.device()` and the `.to()` method for both your model and your data if you are using GPU!\n",
    "\n",
    "If you want to print your loss **during** each epoch, you can use the `enumerate` function and print the loss after a set number of batches. 250 batches works well for most people!"
   ]
  },
  {
   "cell_type": "code",
   "execution_count": 12,
   "metadata": {},
   "outputs": [
    {
     "name": "stdout",
     "output_type": "stream",
     "text": [
      "Epoch:  0 Batch:  600 [ 60000/60000] Train loss: 0.18670529 Train accuracy:88.032%\n",
      "Epoch:  1 Batch:  600 [ 60000/60000] Train loss: 0.17936379 Train accuracy:94.128%\n",
      "Epoch:  2 Batch:  600 [ 60000/60000] Train loss: 0.10410568 Train accuracy:95.717%\n",
      "Epoch:  3 Batch:  600 [ 60000/60000] Train loss: 0.08371742 Train accuracy:96.465%\n",
      "Epoch:  4 Batch:  600 [ 60000/60000] Train loss: 0.11790794 Train accuracy:97.060%\n"
     ]
    }
   ],
   "source": [
    "epochs = 5\n",
    "train_losses = list()\n",
    "test_losses = []\n",
    "train_correct = []\n",
    "test_correct = []\n",
    "\n",
    "for i in range(epochs):\n",
    "    trn_corr = 0\n",
    "    tst_corr = 0\n",
    "    \n",
    "    #Run the training batches\n",
    "    for b, (inputs, labels) in enumerate(train_loader):\n",
    "        b+=1\n",
    "        \n",
    "        #Apply the model\n",
    "        labels_pred = clf(inputs.view(100, -1)) # Here we flatten training inputs\n",
    "        loss = criterion(labels_pred, labels)\n",
    "        \n",
    "        #Calculate the number of correct predictions\n",
    "        predicted = torch.max(labels_pred.data, 1)[1] # the prediction that has the maximum probability\n",
    "        batch_corr = (predicted == labels).sum()\n",
    "        trn_corr += batch_corr\n",
    "        \n",
    "        #Update paraeters\n",
    "        optimizer.zero_grad() #reset the gradients after each training step\n",
    "        loss.backward() #to trigger backprop\n",
    "        optimizer.step() #per form parameter update\n",
    "        \n",
    "        #Print interim results\n",
    "        if b%600 == 0:\n",
    "            print(f'Epoch: {i:2} Batch: {b:4} [{100*b:6}/60000] Train loss: {loss.item():10.8f} Train accuracy:{trn_corr.item()/len(train_loader):.3f}%')\n",
    "\n",
    "    #Update train loss & accuracy for the epoch\n",
    "    train_losses.append(loss)\n",
    "    train_correct.append(trn_corr)\n",
    "                  \n",
    "    #Run the testing batches:\n",
    "    with torch.no_grad(): #don't calcalate gradients during testing\n",
    "        for b, (test_inputs, test_labels) in enumerate(test_loader):\n",
    "            labels_val = clf(test_inputs.view(500,-1))\n",
    "                  \n",
    "            #Tally the number of correct pradictions\n",
    "            predicted = torch.max(labels_val.data, 1)[1]\n",
    "            tst_corr += (predicted == test_labels).sum()\n",
    "            \n",
    "    #Update test loss & accuracy for the epoch\n",
    "    loss = criterion(labels_val, test_labels)\n",
    "    test_losses.append(loss)\n",
    "    test_correct.append(tst_corr)\n",
    "    \n",
    "    "
   ]
  },
  {
   "cell_type": "markdown",
   "metadata": {},
   "source": [
    "Plot the training loss (and validation loss/accuracy, if recorded)."
   ]
  },
  {
   "cell_type": "code",
   "execution_count": 13,
   "metadata": {},
   "outputs": [
    {
     "data": {
      "image/png": "[encoded data removed]",
      "text/plain": [
       "<Figure size 864x432 with 2 Axes>"
      ]
     },
     "metadata": {
      "needs_background": "light"
     },
     "output_type": "display_data"
    }
   ],
   "source": [
    "# Convert training loss tensors to float values\n",
    "train_loss_values = [loss.item() for loss in train_losses]\n",
    "\n",
    "# Normalize accuracies (divide by total samples)\n",
    "train_accuracy = [correct / len(train_dataset) * 100 for correct in train_correct]\n",
    "test_accuracy = [correct / len(test_dataset) * 100 for correct in test_correct]\n",
    "\n",
    "# Create figure with subplots\n",
    "plt.figure(figsize=(12, 6))\n",
    "\n",
    "# 📉 Plot Losses\n",
    "plt.subplot(2, 1, 1)\n",
    "plt.plot(train_loss_values, label=\"Training Loss\", marker='o')\n",
    "plt.plot(test_losses, label=\"Validation Loss\", marker='x')\n",
    "plt.title(\"Loss per Epoch\")\n",
    "plt.xlabel(\"Epoch\")\n",
    "plt.ylabel(\"Loss\")\n",
    "plt.legend()\n",
    "plt.grid(True)\n",
    "\n",
    "# 📊 Plot Accuracies\n",
    "plt.subplot(2, 1, 2)\n",
    "plt.plot(train_accuracy, label=\"Training Accuracy\", marker='o')\n",
    "plt.plot(test_accuracy, label=\"Validation Accuracy\", marker='x')\n",
    "plt.title(\"Accuracy per Epoch\")\n",
    "plt.xlabel(\"Epoch\")\n",
    "plt.ylabel(\"Accuracy (%)\")\n",
    "plt.legend()\n",
    "plt.grid(True)\n",
    "\n",
    "plt.tight_layout()\n",
    "plt.show()"
   ]
  },
  {
   "cell_type": "markdown",
   "metadata": {},
   "source": [
    "## Testing your model\n",
    "Using the previously created `DataLoader` for the test set, compute the percentage of correct predictions using the highest probability prediction. \n",
    "\n",
    "If your accuracy is over 90%, great work, but see if you can push a bit further! \n",
    "If your accuracy is under 90%, you'll need to make improvements.\n",
    "Go back and check your model architecture, loss function, and optimizer to make sure they're appropriate for an image classification task."
   ]
  },
  {
   "cell_type": "code",
   "execution_count": 14,
   "metadata": {},
   "outputs": [
    {
     "name": "stdout",
     "output_type": "stream",
     "text": [
      "Test Accuracy: 96.670%\n"
     ]
    }
   ],
   "source": [
    "print(f'Test Accuracy: {test_correct[-1].item()*100/10000:.3f}%')"
   ]
  },
  {
   "cell_type": "markdown",
   "metadata": {},
   "source": [
    "## Improving your model\n",
    "\n",
    "Once your model is done training, try tweaking your hyperparameters and training again below to improve your accuracy on the test set!"
   ]
  },
  {
   "cell_type": "code",
   "execution_count": 15,
   "metadata": {},
   "outputs": [
    {
     "name": "stdout",
     "output_type": "stream",
     "text": [
      "Epoch:  0 Batch:  600 [ 60000/60000] Train loss: 0.17707619 Train accuracy:97.400%\n",
      "Epoch:  1 Batch:  600 [ 60000/60000] Train loss: 0.05103285 Train accuracy:97.688%\n",
      "Epoch:  2 Batch:  600 [ 60000/60000] Train loss: 0.04398677 Train accuracy:98.058%\n",
      "Epoch:  3 Batch:  600 [ 60000/60000] Train loss: 0.04279410 Train accuracy:98.018%\n",
      "Epoch:  4 Batch:  600 [ 60000/60000] Train loss: 0.04272284 Train accuracy:98.253%\n"
     ]
    }
   ],
   "source": [
    "epochs = 5\n",
    "train_losses = []\n",
    "test_losses = []\n",
    "train_correct = []\n",
    "test_correct = []\n",
    "\n",
    "for i in range(epochs):\n",
    "    trn_corr = 0\n",
    "    tst_corr = 0\n",
    "    \n",
    "    #Run the training batches\n",
    "    for b, (inputs, labels) in enumerate(train_loader):\n",
    "        b+=1\n",
    "        \n",
    "        #Apply the model\n",
    "        labels_pred = clf(inputs.view(100, -1)) # Here we flatten training inputs\n",
    "        loss = criterion(labels_pred, labels)\n",
    "        \n",
    "        #Calculate the number of correct predictions\n",
    "        predicted = torch.max(labels_pred.data, 1)[1] # the prediction that has the maximum probability\n",
    "        batch_corr = (predicted == labels).sum()\n",
    "        trn_corr += batch_corr\n",
    "        \n",
    "        #Update paraeters\n",
    "        optimizer.zero_grad() #reset the gradients after each training step\n",
    "        loss.backward() #to trigger backprop\n",
    "        optimizer.step() #per form parameter update\n",
    "        \n",
    "        #Print interim results\n",
    "        if b%600 == 0:\n",
    "            print(f'Epoch: {i:2} Batch: {b:4} [{100*b:6}/60000] Train loss: {loss.item():10.8f} Train accuracy:{trn_corr.item()/len(train_loader):.3f}%')\n",
    "\n",
    "    #Update train loss & accuracy for the epoch\n",
    "    train_losses.append(loss)\n",
    "    train_correct.append(trn_corr)\n",
    "                  \n",
    "    #Run the testing batches:\n",
    "    with torch.no_grad(): #don't calcalate gradients during testing\n",
    "        for b, (test_inputs, test_labels) in enumerate(test_loader):\n",
    "            labels_val = clf(test_inputs.view(500,-1))\n",
    "                  \n",
    "            #Tally the number of correct pradictions\n",
    "            predicted = torch.max(labels_val.data, 1)[1]\n",
    "            tst_corr += (predicted == test_labels).sum()\n",
    "            \n",
    "    #Update test loss & accuracy for the epoch\n",
    "    loss = criterion(labels_val, test_labels)\n",
    "    test_losses.append(loss)\n",
    "    test_correct.append(tst_corr)"
   ]
  },
  {
   "cell_type": "code",
   "execution_count": 16,
   "metadata": {},
   "outputs": [
    {
     "name": "stdout",
     "output_type": "stream",
     "text": [
      "Test Accuracy After Change of Optimiser: 97.580%\n"
     ]
    }
   ],
   "source": [
    "print(f'Test Accuracy After Change of Optimiser: {test_correct[-1].item()*100/10000:.3f}%')"
   ]
  },
  {
   "cell_type": "markdown",
   "metadata": {},
   "source": [
    "# Conclusion"
   ]
  },
  {
   "cell_type": "markdown",
   "metadata": {},
   "source": [
    "The initial MLP model achieved an accuracy of 96.67% on the test set. After tuning several hyperparameters, the modified version achieved a slightly higher accuracy of 97.58%.\n",
    "\n",
    "While the second model performed better in terms of raw accuracy, the improvement was marginal (just over 1%). Given the added complexity introduced by hyperparameter tuning, I have chosen to continue using the initial model, as it is simpler, more interpretable, and still provides excellent performance."
   ]
  },
  {
   "cell_type": "markdown",
   "metadata": {},
   "source": [
    "## Saving your model\n",
    "Using `torch.save`, save your model for future loading."
   ]
  },
  {
   "cell_type": "code",
   "execution_count": 18,
   "metadata": {},
   "outputs": [],
   "source": [
    "torch.save(clf.state_dict(), 'Project2MnistClassification.pt')"
   ]
  }
 ],
 "metadata": {
  "kernelspec": {
   "display_name": "Python 3",
   "language": "python",
   "name": "python3"
  },
  "language_info": {
   "codemirror_mode": {
    "name": "ipython",
    "version": 3
   },
   "file_extension": ".py",
   "mimetype": "text/x-python",
   "name": "python",
   "nbconvert_exporter": "python",
   "pygments_lexer": "ipython3",
   "version": "3.7.6"
  }
 },
 "nbformat": 4,
 "nbformat_minor": 4
}
